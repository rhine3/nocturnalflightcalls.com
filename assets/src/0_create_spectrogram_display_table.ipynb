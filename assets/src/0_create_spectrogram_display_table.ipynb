{
 "cells": [
  {
   "cell_type": "markdown",
   "id": "862d1377",
   "metadata": {
    "tags": []
   },
   "source": [
    "# Create the \"table\" resource for the website\n",
    "\n",
    "Purposes of this script:\n",
    "* Show the species that we have fewer than 30 recordings for\n",
    "* Show the variables used for extracting and cleaning up each species's sound clips\n",
    "* Give Oldbird link references for all species that have them\n",
    "\n",
    "This notebook uses several resources to create the HTML code for the NFC website's table of spectrograms.\n",
    "\n",
    "This notebook uses the following inputs:\n",
    "* `../media/` - a folder containing spectrograms and audio for nocturnal flight calls. Top level folders are alpha codes, and within each alpha code folder is a folder of audio (`audio/`) and spectrograms (`spectrograms/`)\n",
    "* `ibp-alpha-codes_2021.csv` - Downloaded from Goldeneye: https://github.com/rhine3/goldeneye\n",
    "* `NACC_list_species.csv` - Downloaded from AOS: http://checklist.americanornithology.org/taxa/\n",
    "* `bioacoustic_groups.csv` - Cobbled together from OldBird (especially http://www.oldbird.org/Library.htm) and, supplementary info from here: https://academic.oup.com/condor/article/116/3/371/5153144\n",
    "\n",
    "To create the following outputs:\n",
    "* `table_source.csv` - a table containing the following information about all North American species and the codes for each file:\n",
    "    * taxonomic_index - numerical index for sorting taxonomically\n",
    "    * alphabetic_index - numerical index for sorting alphabetically\n",
    "    * scientific_name - latin name (genus and species)\n",
    "    * alpha_code - 4-letter alpha code\n",
    "    * order - taxonomic order of species\n",
    "    * family - taxonomic order of species\n",
    "    * bioacoustic_category - Zeep, double-banded upsweep, etc. info from Mennill and Oldbird\n",
    "    * description - description coming from Mennill site\n",
    "    * high_or_low - whether the call is high, medium, low, or multiple\n",
    "    * bandpass_low_freq - the low frequency used for bandpassing\n",
    "    * bandpass_high_freq - the high frequency used for bandpassing\n",
    "    * typical_duration_ms - typical duration from Mennill's guide\n",
    "    * approx_duration - approx duration determined using our scripts\n",
    "    * oldbird_spectrogram - whether the Oldbird guide contains a spectrogram for the species\n",
    "    * oldbird_nocturnal_spectrogram - whether the Oldbird guide contains a *nocturnally recorded* spectrogram for the species\n",
    "    * oldbird_link - the link to the species on OldBird, if there is one\n",
    "    * images - a list of spectrogram images\n",
    "    * audio - a list of audio files that go with the spectrogram images\n",
    "* `table.html` - the final HTML table for Goldeneye, which contains a pared-down set of information from table_source.csv"
   ]
  },
  {
   "cell_type": "code",
   "execution_count": 1,
   "id": "55a7ab41",
   "metadata": {},
   "outputs": [],
   "source": [
    "from pathlib import Path\n",
    "import pandas as pd"
   ]
  },
  {
   "cell_type": "markdown",
   "id": "ed334c01",
   "metadata": {},
   "source": [
    "## Load resources"
   ]
  },
  {
   "cell_type": "markdown",
   "id": "35d5d966",
   "metadata": {},
   "source": [
    "### Taxonomic information\n",
    "\n",
    "Load a table containing family, order, and genus for each species."
   ]
  },
  {
   "cell_type": "code",
   "execution_count": 2,
   "id": "a1f068f0",
   "metadata": {},
   "outputs": [],
   "source": [
    "species_df = pd.read_csv(\"NACC_list_species.csv\", index_col='common_name')"
   ]
  },
  {
   "cell_type": "markdown",
   "id": "106685bf",
   "metadata": {},
   "source": [
    "### Alpha code information\n",
    "\n",
    "Load a table of alpha codes and common names, which will help us translate from the `bird_folders`' alpha codes to the `species_df` records. This also contains the species in the correct taxonomic order, so we reset the index so we can both search by alpha code and have the species's taxonomic order.\n"
   ]
  },
  {
   "cell_type": "code",
   "execution_count": 3,
   "id": "8af23996",
   "metadata": {},
   "outputs": [],
   "source": [
    "alpha_df = pd.read_csv(\"ibp-alpha-codes_2021.csv\")\n",
    "alpha_df = alpha_df.reset_index().set_index(\"true_alpha\")"
   ]
  },
  {
   "cell_type": "markdown",
   "id": "bc9d785f",
   "metadata": {},
   "source": [
    "### Manually created table of spec time limits, durations\n",
    "\n",
    "`freqs_and_durations_manual_edits.csv` created here: https://docs.google.com/spreadsheets/d/1n4y7yxoter0clf9wcvyTU1R-CR4zzeRkSsYB_tsV3n8/edit#gid=1396987416\n",
    "\n",
    "Contains columns:\n",
    "* taxonomic_index - just an ordering variable\n",
    "* code - alpha code\n",
    "* low_freq - the low frequency for the bandpass\n",
    "* high_freq - the high frequency for the bandpass\n",
    "* median_duration - the median duration of calls as determined from our sample\n",
    "* approx_duration - the rough expected duration of the call (very rough, so spectrogram lengths are somewhat consistent--lengths are either 0.05, 0.1, 0.15, 0.2, 0.25, or 0.5 seconds)\n",
    "* frequency_modified - whether the frequency limits were modified from my first gess\n",
    "* duration_modified - whether the duration was modified from my first algorithmic estimation"
   ]
  },
  {
   "cell_type": "code",
   "execution_count": 4,
   "id": "b2c81856",
   "metadata": {},
   "outputs": [],
   "source": [
    "freqs_durs_df = pd.read_csv(\"freqs_and_durations_manual_edits.csv\")"
   ]
  },
  {
   "cell_type": "markdown",
   "id": "d4b55bc4",
   "metadata": {},
   "source": [
    "### Manually created table of bioacoustic groups (and some other incomplete information)\n",
    "\n",
    "Contains columns:\n",
    "* species\n",
    "* bioacoustic_group - mostly compiled from the supporting information of this paper - https://academic.oup.com/condor/article/116/3/371/5153144 and from OldBird's \"cheat sheet\" http://www.oldbird.org/Library.htm. Complete to the best of my knowledge for the group of species contained in this table.\n",
    "* typical_length_ms - From the Mennill information. Incomplete.\n",
    "* description - from the Mennill information. Incomplete."
   ]
  },
  {
   "cell_type": "code",
   "execution_count": 5,
   "id": "49fb9408",
   "metadata": {},
   "outputs": [],
   "source": [
    "bioacoustic_groups_df = pd.read_csv(\"bioacoustic_groups_mennill_evans.csv\")"
   ]
  },
  {
   "cell_type": "markdown",
   "id": "4975cc29",
   "metadata": {},
   "source": [
    "### Table 3 - All OldBird links that we have for individual species\n",
    "\n",
    "`OldBird Comparison - All OldBird.csv` - created by Lauren here: https://docs.google.com/spreadsheets/d/1pBZLtxtXK3-SYkQT5I8V9ISCDgmovkbBhCyaS1lf8D8/edit#gid=1146517336\n",
    "\n",
    "Contains columns:\n",
    "* Common Name \n",
    "* Alpha Code\n",
    "* OldBird Spectrogram - Y/N. whether OldBird has any spectrogram for this species. (Some species, like Blue-headed Vireo, only contain info about the migration habits of the species but no flight calls)\n",
    "* OldBird Nocturnal Spectrogram - Y/N. Whether OldBird has a specifically nocturnal spectrogram for this species. (Some species only have diurnally recorded sounds, which could be different from the sounds predominantly given at night)\n",
    "* Link - Link to OldBird page"
   ]
  },
  {
   "cell_type": "code",
   "execution_count": 6,
   "id": "20e128e7",
   "metadata": {},
   "outputs": [
    {
     "data": {
      "text/html": [
       "<div>\n",
       "<style scoped>\n",
       "    .dataframe tbody tr th:only-of-type {\n",
       "        vertical-align: middle;\n",
       "    }\n",
       "\n",
       "    .dataframe tbody tr th {\n",
       "        vertical-align: top;\n",
       "    }\n",
       "\n",
       "    .dataframe thead th {\n",
       "        text-align: right;\n",
       "    }\n",
       "</style>\n",
       "<table border=\"1\" class=\"dataframe\">\n",
       "  <thead>\n",
       "    <tr style=\"text-align: right;\">\n",
       "      <th></th>\n",
       "      <th>Common Name</th>\n",
       "      <th>Alpha Code</th>\n",
       "      <th>Oldbird Spectrogram</th>\n",
       "      <th>Oldbird Nocturnal Spectrogram</th>\n",
       "      <th>Link</th>\n",
       "    </tr>\n",
       "  </thead>\n",
       "  <tbody>\n",
       "    <tr>\n",
       "      <th>0</th>\n",
       "      <td>White-crowned Pigeon</td>\n",
       "      <td>WCPI</td>\n",
       "      <td>N</td>\n",
       "      <td>N</td>\n",
       "      <td>http://oldbird.org/pubs/fcmb/species/doves/wcp...</td>\n",
       "    </tr>\n",
       "    <tr>\n",
       "      <th>1</th>\n",
       "      <td>Eurasion Collared-dove</td>\n",
       "      <td>EUCD</td>\n",
       "      <td>Y</td>\n",
       "      <td>N</td>\n",
       "      <td>http://oldbird.org/pubs/fcmb/species/doves/cod...</td>\n",
       "    </tr>\n",
       "    <tr>\n",
       "      <th>2</th>\n",
       "      <td>White-winged Dove</td>\n",
       "      <td>WWDO</td>\n",
       "      <td>N</td>\n",
       "      <td>N</td>\n",
       "      <td>http://oldbird.org/pubs/fcmb/species/doves/wwd...</td>\n",
       "    </tr>\n",
       "    <tr>\n",
       "      <th>3</th>\n",
       "      <td>Mourning Dove</td>\n",
       "      <td>MODO</td>\n",
       "      <td>N</td>\n",
       "      <td>N</td>\n",
       "      <td>http://oldbird.org/pubs/fcmb/species/doves/mod...</td>\n",
       "    </tr>\n",
       "    <tr>\n",
       "      <th>4</th>\n",
       "      <td>Black-billed Cuckoo</td>\n",
       "      <td>BBCU</td>\n",
       "      <td>Y</td>\n",
       "      <td>Y</td>\n",
       "      <td>http://oldbird.org/pubs/fcmb/species/cuckoos/b...</td>\n",
       "    </tr>\n",
       "  </tbody>\n",
       "</table>\n",
       "</div>"
      ],
      "text/plain": [
       "              Common Name Alpha Code Oldbird Spectrogram  \\\n",
       "0    White-crowned Pigeon       WCPI                   N   \n",
       "1  Eurasion Collared-dove       EUCD                   Y   \n",
       "2       White-winged Dove       WWDO                   N   \n",
       "3           Mourning Dove       MODO                   N   \n",
       "4     Black-billed Cuckoo       BBCU                   Y   \n",
       "\n",
       "  Oldbird Nocturnal Spectrogram  \\\n",
       "0                             N   \n",
       "1                             N   \n",
       "2                             N   \n",
       "3                             N   \n",
       "4                             Y   \n",
       "\n",
       "                                                Link  \n",
       "0  http://oldbird.org/pubs/fcmb/species/doves/wcp...  \n",
       "1  http://oldbird.org/pubs/fcmb/species/doves/cod...  \n",
       "2  http://oldbird.org/pubs/fcmb/species/doves/wwd...  \n",
       "3  http://oldbird.org/pubs/fcmb/species/doves/mod...  \n",
       "4  http://oldbird.org/pubs/fcmb/species/cuckoos/b...  "
      ]
     },
     "execution_count": 6,
     "metadata": {},
     "output_type": "execute_result"
    }
   ],
   "source": [
    "oldbird_df = pd.read_csv(\"OldBird Comparison - All OldBird.csv\")\n",
    "oldbird_df.head()"
   ]
  },
  {
   "cell_type": "markdown",
   "id": "03281a25",
   "metadata": {},
   "source": [
    "### Table 4 - All regularly occurring North American species\n",
    "\n",
    "The ABA Checklist downloaded from here: https://www.aba.org/aba-checklist/"
   ]
  },
  {
   "cell_type": "code",
   "execution_count": 7,
   "id": "68ece232",
   "metadata": {},
   "outputs": [
    {
     "data": {
      "text/html": [
       "<div>\n",
       "<style scoped>\n",
       "    .dataframe tbody tr th:only-of-type {\n",
       "        vertical-align: middle;\n",
       "    }\n",
       "\n",
       "    .dataframe tbody tr th {\n",
       "        vertical-align: top;\n",
       "    }\n",
       "\n",
       "    .dataframe thead th {\n",
       "        text-align: right;\n",
       "    }\n",
       "</style>\n",
       "<table border=\"1\" class=\"dataframe\">\n",
       "  <thead>\n",
       "    <tr style=\"text-align: right;\">\n",
       "      <th></th>\n",
       "      <th>common_name</th>\n",
       "      <th>sci_name</th>\n",
       "      <th>alpha_code</th>\n",
       "    </tr>\n",
       "  </thead>\n",
       "  <tbody>\n",
       "    <tr>\n",
       "      <th>0</th>\n",
       "      <td>Black-bellied Whistling-Duck</td>\n",
       "      <td>Dendrocygna autumnalis</td>\n",
       "      <td>BBWD</td>\n",
       "    </tr>\n",
       "    <tr>\n",
       "      <th>1</th>\n",
       "      <td>Fulvous Whistling-Duck</td>\n",
       "      <td>Dendrocygna bicolor</td>\n",
       "      <td>FUWD</td>\n",
       "    </tr>\n",
       "    <tr>\n",
       "      <th>2</th>\n",
       "      <td>Emperor Goose</td>\n",
       "      <td>Anser canagicus</td>\n",
       "      <td>EMGO</td>\n",
       "    </tr>\n",
       "    <tr>\n",
       "      <th>3</th>\n",
       "      <td>Snow Goose</td>\n",
       "      <td>Anser caerulescens</td>\n",
       "      <td>SNGO</td>\n",
       "    </tr>\n",
       "    <tr>\n",
       "      <th>4</th>\n",
       "      <td>Ross's Goose</td>\n",
       "      <td>Anser rossii</td>\n",
       "      <td>ROGO</td>\n",
       "    </tr>\n",
       "  </tbody>\n",
       "</table>\n",
       "</div>"
      ],
      "text/plain": [
       "                    common_name                sci_name alpha_code\n",
       "0  Black-bellied Whistling-Duck  Dendrocygna autumnalis       BBWD\n",
       "1        Fulvous Whistling-Duck     Dendrocygna bicolor       FUWD\n",
       "2                 Emperor Goose         Anser canagicus       EMGO\n",
       "3                    Snow Goose      Anser caerulescens       SNGO\n",
       "4                  Ross's Goose            Anser rossii       ROGO"
      ]
     },
     "execution_count": 7,
     "metadata": {},
     "output_type": "execute_result"
    }
   ],
   "source": [
    "all_nabirds_df = pd.read_csv(\"ABA_Checklist-8.1.csv\", skiprows=2)\n",
    "regular_spp_df = all_nabirds_df[all_nabirds_df['Unnamed: 5'].isin([1,2])]\n",
    "regular_spp_df.columns = [\"group\", \"common_name\", \"french_name\", \"sci_name\", \"alpha_code\", \"aba_code\"]\n",
    "regular_spp_df = regular_spp_df.drop([\"group\", \"aba_code\", \"french_name\"], axis=1)\n",
    "regular_spp_df.head()"
   ]
  },
  {
   "cell_type": "markdown",
   "id": "f4f72ebc",
   "metadata": {},
   "source": [
    "## Create a CSV containing information about each species"
   ]
  },
  {
   "cell_type": "markdown",
   "id": "9951fdbc",
   "metadata": {},
   "source": [
    "Load a list of folders we have of media (spectrograms and audio) for bird sounds. The folders are named after alpha codes of each bird."
   ]
  },
  {
   "cell_type": "code",
   "execution_count": 8,
   "id": "590e811b",
   "metadata": {},
   "outputs": [],
   "source": [
    "bird_folders = [folder for folder in Path(\"../media/\").glob(\"*\") if folder.is_dir()]\n",
    "bird_folder_dict = {folder.name:folder for folder in bird_folders}"
   ]
  },
  {
   "cell_type": "markdown",
   "id": "594e4bd5",
   "metadata": {},
   "source": [
    "Use the ABA list to get info for each species."
   ]
  },
  {
   "cell_type": "code",
   "execution_count": 9,
   "id": "1d6f01b2",
   "metadata": {},
   "outputs": [
    {
     "data": {
      "text/plain": [
       "'Low, Middle, High'"
      ]
     },
     "execution_count": 9,
     "metadata": {},
     "output_type": "execute_result"
    }
   ],
   "source": [
    "def approx_freq_range(f1, f2):\n",
    "    if f1 < 10: f1 = 0\n",
    "    if f2 > 11000: f2 = 11000\n",
    "    f1 = int(f1)\n",
    "    f2 = int(f2)\n",
    "    \n",
    "    low = range(0, 5000, 1000)\n",
    "    mid = range(3000, 7000, 1000)\n",
    "    high = range(5000, 10000, 1000)\n",
    "    \n",
    "    this_range = range(f1, f2, 1000)\n",
    "    \n",
    "    low_intersection = len(set(low).intersection(this_range))\n",
    "    mid_intersection = len(set(mid).intersection(this_range))\n",
    "    high_intersection = len(set(high).intersection(this_range))\n",
    "    \n",
    "    intersections = []\n",
    "    if low_intersection >= 4:\n",
    "        intersections.append('Low')\n",
    "    if mid_intersection >= 4:\n",
    "        intersections.append('Middle')\n",
    "    if high_intersection >= 4:\n",
    "        intersections.append('High')\n",
    "\n",
    "    return ', '.join(intersections) \n",
    "    \n",
    "    \n",
    "approx_freq_range(0.1, 11024.0)"
   ]
  },
  {
   "cell_type": "markdown",
   "id": "bb10343f",
   "metadata": {},
   "source": [
    "We will use the `regular_spp_df` below as a source for the species list for the table. \n",
    "\n",
    "The next cell makes that this df contains all the alpha codes of species we have info for."
   ]
  },
  {
   "cell_type": "code",
   "execution_count": 10,
   "id": "2082faea",
   "metadata": {},
   "outputs": [],
   "source": [
    "for key in bird_folder_dict.keys():\n",
    "    try:\n",
    "        assert key in regular_spp_df.alpha_code.values\n",
    "    except:\n",
    "        print(key)"
   ]
  },
  {
   "cell_type": "markdown",
   "id": "52fa92a8",
   "metadata": {},
   "source": [
    "Create a dictionary associating each species contained in the bird folders list with information about the species. Dictionary keys are common names and values are lists containing information about each species."
   ]
  },
  {
   "cell_type": "code",
   "execution_count": 11,
   "id": "976ce9d5",
   "metadata": {},
   "outputs": [],
   "source": [
    "table_dict = {}\n",
    "names = regular_spp_df.common_name.to_list()\n",
    "names.sort()\n",
    "\n",
    "for taxonomic_index, (common_name, scientific_name, alpha_code) in regular_spp_df.iterrows():    \n",
    "    # Taxonomic info from the AOS list\n",
    "    order = species_df.loc[common_name].order\n",
    "    family = species_df.loc[common_name].family\n",
    "    alphabetic_index = names.index(common_name)\n",
    "\n",
    "    # Info from the bioacoustic category table from Mennill and Evans\n",
    "    # Not all species have this information\n",
    "    group = bioacoustic_groups_df.query(\"species==@common_name\")[['bioacoustic_group', 'typical_length_ms', 'description']]\n",
    "    if len(group) == 0:\n",
    "        bioacoustic_category = pd.NA\n",
    "        typical_duration_ms = pd.NA\n",
    "        description = pd.NA\n",
    "    elif len(group) == 1:\n",
    "        bioacoustic_category, typical_duration_ms, description = group.values[0]\n",
    "    else:\n",
    "        print(common_name)\n",
    "        raise ValueError\n",
    "    \n",
    "    # Frequency and duration    \n",
    "    if alpha_code in freqs_durs_df.code.unique():\n",
    "        vals = freqs_durs_df.query(\"code==@alpha_code\")[['low_freq', 'high_freq', 'median_duration', 'approx_duration']].values[0]\n",
    "        bandpass_low_freq, bandpass_high_freq, median_duration, approx_duration = vals\n",
    "        high_or_low = approx_freq_range(bandpass_low_freq, bandpass_high_freq)\n",
    "    else:\n",
    "        bandpass_low_freq = pd.NA\n",
    "        bandpass_high_freq = pd.NA\n",
    "        high_or_low = pd.NA\n",
    "        approx_duration = pd.NA\n",
    "        median_duration = pd.NA\n",
    "\n",
    "    # Get Oldbird info\n",
    "    if alpha_code in oldbird_df['Alpha Code'].unique():\n",
    "        oldbird_spectrogram, oldbird_nocturnal_spectrogram, oldbird_link = oldbird_df[['Oldbird Spectrogram', 'Oldbird Nocturnal Spectrogram', 'Link']].values[0]\n",
    "    else:\n",
    "        oldbird_spectrogram = pd.NA\n",
    "        oldbird_nocturnal_spectrogram = pd.NA\n",
    "        oldbird_link = \"No OldBird page\"\n",
    "    \n",
    "    # Get lists of images\n",
    "    if alpha_code in bird_folder_dict.keys():\n",
    "        bird_folder = bird_folder_dict[alpha_code]\n",
    "        jpgs = list(bird_folder.joinpath(\"spectrograms\").glob(\"*.jpg\"))\n",
    "        images = [str(p)[3:] for p in jpgs]\n",
    "        wavs = []\n",
    "        for jpg in jpgs:\n",
    "            wavs.append(bird_folder.joinpath(f\"audio/{jpg.stem}.wav\"))\n",
    "        audio = [str(p)[3:] for p in wavs]\n",
    "\n",
    "    else:\n",
    "        jpgs = pd.NA\n",
    "        images = pd.NA\n",
    "        audio = pd.NA\n",
    "    \n",
    "    table_dict[common_name] = [\n",
    "        taxonomic_index, alphabetic_index, # For sorting taxonomically or alphabetically\n",
    "        scientific_name, alpha_code, order, family, # Taxonomic info\n",
    "        bioacoustic_category, description, # Zeep, etc. info from Mennill and Oldbird\n",
    "        high_or_low, bandpass_low_freq, bandpass_high_freq, # Frequency info\n",
    "        typical_duration_ms, median_duration, approx_duration, # Duration info\n",
    "        oldbird_spectrogram, oldbird_nocturnal_spectrogram, oldbird_link, #Oldbird info\n",
    "        images, audio\n",
    "    ]\n"
   ]
  },
  {
   "cell_type": "markdown",
   "id": "a8a591d3",
   "metadata": {},
   "source": [
    "Turn the dictionary into a dataframe."
   ]
  },
  {
   "cell_type": "code",
   "execution_count": 12,
   "id": "3f390f75",
   "metadata": {},
   "outputs": [],
   "source": [
    "table = pd.DataFrame(\n",
    "    table_dict,\n",
    "    index=[\n",
    "        \"taxonomic_index\", \"alphabetic_index\", # For sorting taxonomically or alphabetically\n",
    "        \"scientific_name\", \"alpha_code\", \"order\", \"family\", # Taxonomic info\n",
    "        \"bioacoustic_category\", \"description\", # Zeep, etc. info from Mennill and Oldbird\n",
    "        \"high_or_low\", \"bandpass_low_freq\", \"bandpass_high_freq\", # Frequency info\n",
    "        \"typical_duration_ms\", \"median_duration\", \"approx_duration\", # Duration info\n",
    "        \"oldbird_spectrogram\", \"oldbird_nocturnal_spectrogram\", \"oldbird_link\", #Oldbird info\n",
    "        \"images\", \"audio\"]\n",
    ")\n",
    "table = table.transpose()\n",
    "table.index = table.index.rename(\"common_name\")\n",
    "table = table.reset_index()"
   ]
  },
  {
   "cell_type": "code",
   "execution_count": 13,
   "id": "6ee531cc",
   "metadata": {},
   "outputs": [],
   "source": [
    "table.to_csv(\"table_source.csv\", index=False)"
   ]
  },
  {
   "cell_type": "markdown",
   "id": "ddde30bb",
   "metadata": {},
   "source": [
    "## Convert the CSV into an HTML table."
   ]
  },
  {
   "cell_type": "code",
   "execution_count": 14,
   "id": "cbe28667",
   "metadata": {},
   "outputs": [],
   "source": [
    "import pandas as pd\n",
    "from pathlib import Path\n",
    "import ast # Used to transform string lists from CSV into actual lists\n",
    "from PIL import Image # Used to check image dimensions"
   ]
  },
  {
   "cell_type": "markdown",
   "id": "4637f118",
   "metadata": {},
   "source": [
    "These columns of the table will be hidden to start."
   ]
  },
  {
   "cell_type": "code",
   "execution_count": 15,
   "id": "09d827f6",
   "metadata": {},
   "outputs": [],
   "source": [
    "hidden_tds = {\n",
    "    'alpha_code':\"Code\",\n",
    "    'order':\"Order\",\n",
    "    'family':\"Family\",\n",
    "    'bioacoustic_category':\"Category\",\n",
    "    'high_or_low':\"Frequency\"\n",
    "}"
   ]
  },
  {
   "cell_type": "markdown",
   "id": "f1fd40e3",
   "metadata": {},
   "source": [
    "### Create the header information for the table\n",
    "\n",
    "We will create a string called `table_str` that we'll eventually write to the HTML file. \n",
    "\n",
    "First, give the table some buttons that allow users to toggle hidden columns on and off."
   ]
  },
  {
   "cell_type": "code",
   "execution_count": 16,
   "id": "31da35d8",
   "metadata": {},
   "outputs": [],
   "source": [
    "# Allow users to toggle columns on/off\n",
    "table_str = \"\"\"\n",
    "<label class=\"control-label\">Display columns:</label>\n",
    "<div class=\"btn-group btn-group-toggle\" data-toggle=\"buttons\" style=\"padding-left: 10px;\">\n",
    "    <label class=\"btn btn-primary active\" id=\"species_button\">\n",
    "        <input type=\"checkbox\" name=\"options\" autocomplete=\"off\" checked onchange=\"toggleHiddenColumn('species', 'species_button')\"> Species\n",
    "    </label>\"\"\"\n",
    "\n",
    "# Selectors for the hidden columns\n",
    "for col_class, col_title in hidden_tds.items():\n",
    "    table_str += f\"\"\"\n",
    "    <label class=\"btn btn-primary\" id=\"{col_class}_button\">\n",
    "        <input type=\"checkbox\" name=\"options\" autocomplete=\"off\" onchange=\"toggleHiddenColumn('{col_class}', '{col_class}_button')\"> {col_title}\n",
    "    </label>\"\"\"\n",
    "table_str += \"\"\"\n",
    "    <label class=\"btn btn-primary active\" id=\"spectrograms_button\">\n",
    "        <input type=\"checkbox\" name=\"options\" autocomplete=\"off\" checked onchange=\"toggleHiddenColumn('spectrograms', 'spectrograms_button')\"> Spectrograms\n",
    "    </label>\n",
    "</div>\"\"\""
   ]
  },
  {
   "cell_type": "markdown",
   "id": "aadcff91",
   "metadata": {},
   "source": [
    "We create the first row of the table with hidden columns."
   ]
  },
  {
   "cell_type": "code",
   "execution_count": 17,
   "id": "87a85e23",
   "metadata": {},
   "outputs": [],
   "source": [
    "# Header of the table with hidden columns hidden by default\n",
    "table_str +=\"\"\"\n",
    "<table>\n",
    "  <thead>\n",
    "      <tr>\n",
    "        <th class=\"species\">Species</th>\"\"\"\n",
    "for col_class, col_title in hidden_tds.items():\n",
    "    table_str += f\"\"\"\n",
    "        <th class=\"{col_class}\" style=\"display:none;\">{col_title}</th>\"\"\"\n",
    "table_str += \"\"\"\n",
    "        <th class=\"spectrograms\" width=\"60%\">Spectrograms</th>\n",
    "      </tr>\n",
    "  </thead>\n",
    "  <tbody id=\"nfcTable\">\"\"\""
   ]
  },
  {
   "cell_type": "markdown",
   "id": "e7dabf19",
   "metadata": {},
   "source": [
    "### Add the spectrogram information to the table\n",
    "\n",
    "Get the CSV created in the first section above."
   ]
  },
  {
   "cell_type": "code",
   "execution_count": 18,
   "id": "adee48ac",
   "metadata": {},
   "outputs": [],
   "source": [
    "full_df = pd.read_csv(\"/Users/tessa/Code/nfcs2/assets/src/table_source.csv\")"
   ]
  },
  {
   "cell_type": "code",
   "execution_count": 19,
   "id": "e5813e5d",
   "metadata": {},
   "outputs": [],
   "source": [
    "df = full_df[~full_df.images.isna()]"
   ]
  },
  {
   "cell_type": "markdown",
   "id": "a4242dd4",
   "metadata": {},
   "source": [
    "Now we use the CSV that we just created to add a row for each species, where we encode formatting like italics for the scientific name and clickable links for the spectrograms. "
   ]
  },
  {
   "cell_type": "code",
   "execution_count": 20,
   "id": "9a7a8f73",
   "metadata": {},
   "outputs": [],
   "source": [
    "# How many spectrograms to show before toggling\n",
    "#images_to_show = 5\n",
    "\n",
    "max_num_images = 30\n",
    "\n",
    "for idx, row in df.iterrows():\n",
    "    \n",
    "    image_urls = ast.literal_eval(row.images)\n",
    "    audio_urls = ast.literal_eval(row.audio)\n",
    "    if len(image_urls) == 0:\n",
    "        print(f\"{row.alpha_code} has no images. Skipping\")\n",
    "        continue\n",
    "    \n",
    "    # Get common and scientific name and format them nicely in the string\n",
    "    common_name = row['common_name']\n",
    "    scientific_name = row['scientific_name']\n",
    "    table_str += f\"\"\"\n",
    "    <tr class=\"species_row\">\n",
    "        <td class=\"species\">{common_name} (<i>{scientific_name}</i>)</td>\"\"\"\n",
    "\n",
    "    # Get list of other searchable categories that won't display (as of yet)\n",
    "    hidden_col_classes = hidden_tds.keys()\n",
    "    for col_class, data in zip(hidden_col_classes, row[hidden_col_classes]):\n",
    "        if str(data) == 'nan':\n",
    "            data = ''\n",
    "        table_str += f\"\"\"\n",
    "        <td class=\"{col_class}\" style=\"display:none;\">{data}</td>\"\"\"\n",
    "\n",
    "    # Get list of images with links to audio files and put them all in a string, img_str\n",
    "    alpha_code = row['alpha_code']\n",
    "    image_loc = 'assets/spectrograms/'+alpha_code\n",
    "    img_str = \"\"\n",
    "    height = 100\n",
    "    for audio_url, image_url in zip(audio_urls[:max_num_images], image_urls[:max_num_images]): # Hidden, toggle-able images\n",
    "        img_str += f'<a href=\"{Path(\"assets\").joinpath(audio_url)}\" target=\"_blank\"><img src=\"{Path(\"assets\").joinpath(image_url)}\" height=\"{height}\"></a>\\n'\n",
    "    #for audio_url, image_url in zip(audio_urls[:images_to_show], image_urls[:images_to_show]): # Non-hidden images\n",
    "    #    img_str += f'<a href=\"{Path(\"assets\").joinpath(audio_url)}\" target=\"_blank\"><img src=\"{Path(\"assets\").joinpath(image_url)}\"  height=\"{height}\"></a>\\n'\n",
    "    #for audio_url, image_url in zip(audio_urls[images_to_show:max_num_images], image_urls[images_to_show:max_num_images]): # Hidden, toggle-able images\n",
    "    #    img_str += f'<a href=\"{Path(\"assets\").joinpath(audio_url)}\" target=\"_blank\"><img src=\"{Path(\"assets\").joinpath(image_url)}\"  height=\"{height}\" class=\"image_toggle{idx}\" style=\"display:none\"></a>\\n'\n",
    "    \n",
    "    # Add the image string to the table\n",
    "    table_str += f\"\"\"\n",
    "        <td class=\"spectrograms\">\n",
    "            <div class=\"spectrogramContainer\">\n",
    "                {img_str}\n",
    "            </div>\n",
    "        </td>\n",
    "    </tr>\"\"\"\n",
    "\n",
    "table_str += \"\"\"\n",
    "    </tbody>\n",
    "</table>\n",
    "\"\"\"\n",
    "\n",
    "#print(table_str)\n",
    "with open(\"/Users/tessa/Code/nfcs2/assets/src/table.html\", \"w+\") as f:\n",
    "    f.write(table_str)"
   ]
  },
  {
   "cell_type": "code",
   "execution_count": null,
   "id": "f47acc37",
   "metadata": {},
   "outputs": [],
   "source": []
  },
  {
   "cell_type": "code",
   "execution_count": null,
   "id": "4ab6e2b6",
   "metadata": {},
   "outputs": [],
   "source": []
  }
 ],
 "metadata": {
  "kernelspec": {
   "display_name": "opso-dev",
   "language": "python",
   "name": "opso-dev"
  },
  "language_info": {
   "codemirror_mode": {
    "name": "ipython",
    "version": 3
   },
   "file_extension": ".py",
   "mimetype": "text/x-python",
   "name": "python",
   "nbconvert_exporter": "python",
   "pygments_lexer": "ipython3",
   "version": "3.8.12"
  }
 },
 "nbformat": 4,
 "nbformat_minor": 5
}
