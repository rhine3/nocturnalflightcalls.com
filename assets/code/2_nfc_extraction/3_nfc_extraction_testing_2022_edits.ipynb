{
 "cells": [
  {
   "cell_type": "markdown",
   "metadata": {},
   "source": [
    "# NFC extraction testing, part 2\n",
    "\n",
    "After looking at the generated spectrograms and audio files, I made edits to the duration and frequency for many of the species and stored them in `freqs_and_durations_manual_edits.csv`. I also noticed that the sound files did not seem to be extracted with the call centered. \n",
    "\n",
    "This notebook attempts to fix those issues."
   ]
  },
  {
   "cell_type": "code",
   "execution_count": 1,
   "metadata": {},
   "outputs": [],
   "source": [
    "import numpy as np\n",
    "import matplotlib.pyplot as plt\n",
    "import matplotlib.ticker as ticker\n",
    "from opensoundscape.audio import Audio\n",
    "from opensoundscape.spectrogram import Spectrogram\n",
    "import pandas as pd\n",
    "from pathlib import Path\n",
    "import random"
   ]
  },
  {
   "cell_type": "markdown",
   "metadata": {},
   "source": [
    "Load the document which describes the upper and lower frequency limits for bandpassing as well as the approximate duration of the call"
   ]
  },
  {
   "cell_type": "code",
   "execution_count": 25,
   "metadata": {},
   "outputs": [
    {
     "data": {
      "text/html": [
       "<div>\n",
       "<style scoped>\n",
       "    .dataframe tbody tr th:only-of-type {\n",
       "        vertical-align: middle;\n",
       "    }\n",
       "\n",
       "    .dataframe tbody tr th {\n",
       "        vertical-align: top;\n",
       "    }\n",
       "\n",
       "    .dataframe thead th {\n",
       "        text-align: right;\n",
       "    }\n",
       "</style>\n",
       "<table border=\"1\" class=\"dataframe\">\n",
       "  <thead>\n",
       "    <tr style=\"text-align: right;\">\n",
       "      <th></th>\n",
       "      <th>code</th>\n",
       "      <th>low_freq</th>\n",
       "      <th>high_freq</th>\n",
       "      <th>approx_duration</th>\n",
       "      <th>median_duration</th>\n",
       "      <th>approx_minus_median_duration</th>\n",
       "    </tr>\n",
       "  </thead>\n",
       "  <tbody>\n",
       "    <tr>\n",
       "      <th>0</th>\n",
       "      <td>CANG</td>\n",
       "      <td>0.1</td>\n",
       "      <td>10000</td>\n",
       "      <td>0.10</td>\n",
       "      <td>0.093</td>\n",
       "      <td>0.007</td>\n",
       "    </tr>\n",
       "    <tr>\n",
       "      <th>1</th>\n",
       "      <td>GWTE</td>\n",
       "      <td>0.1</td>\n",
       "      <td>5000</td>\n",
       "      <td>0.10</td>\n",
       "      <td>0.075</td>\n",
       "      <td>0.025</td>\n",
       "    </tr>\n",
       "    <tr>\n",
       "      <th>2</th>\n",
       "      <td>BLSC</td>\n",
       "      <td>1000.0</td>\n",
       "      <td>3000</td>\n",
       "      <td>0.50</td>\n",
       "      <td>0.272</td>\n",
       "      <td>0.228</td>\n",
       "    </tr>\n",
       "    <tr>\n",
       "      <th>3</th>\n",
       "      <td>LTDU</td>\n",
       "      <td>0.1</td>\n",
       "      <td>10000</td>\n",
       "      <td>0.10</td>\n",
       "      <td>0.082</td>\n",
       "      <td>0.018</td>\n",
       "    </tr>\n",
       "    <tr>\n",
       "      <th>4</th>\n",
       "      <td>BBCU</td>\n",
       "      <td>0.1</td>\n",
       "      <td>5000</td>\n",
       "      <td>0.05</td>\n",
       "      <td>0.042</td>\n",
       "      <td>0.008</td>\n",
       "    </tr>\n",
       "  </tbody>\n",
       "</table>\n",
       "</div>"
      ],
      "text/plain": [
       "   code  low_freq  high_freq  approx_duration  median_duration  \\\n",
       "0  CANG       0.1      10000             0.10            0.093   \n",
       "1  GWTE       0.1       5000             0.10            0.075   \n",
       "2  BLSC    1000.0       3000             0.50            0.272   \n",
       "3  LTDU       0.1      10000             0.10            0.082   \n",
       "4  BBCU       0.1       5000             0.05            0.042   \n",
       "\n",
       "   approx_minus_median_duration  \n",
       "0                         0.007  \n",
       "1                         0.025  \n",
       "2                         0.228  \n",
       "3                         0.018  \n",
       "4                         0.008  "
      ]
     },
     "execution_count": 25,
     "metadata": {},
     "output_type": "execute_result"
    }
   ],
   "source": [
    "freq_limits = pd.read_csv(\"freqs_and_durations_manual_edits.csv\")\n",
    "freq_limits.head()"
   ]
  },
  {
   "cell_type": "markdown",
   "metadata": {},
   "source": [
    "Load the table which describes the pairings between annotation files and audio files"
   ]
  },
  {
   "cell_type": "code",
   "execution_count": 17,
   "metadata": {},
   "outputs": [],
   "source": [
    "tables_to_filenames = pd.read_csv(\"annotation_audio_pairs.csv\", index_col='annotation_file').to_dict()['audio_file']"
   ]
  },
  {
   "cell_type": "markdown",
   "metadata": {},
   "source": [
    "## Spectrogram creation parameters"
   ]
  },
  {
   "cell_type": "code",
   "execution_count": 31,
   "metadata": {},
   "outputs": [],
   "source": [
    "# Spectrogram creation parameters\n",
    "#sample_rate=22050\n",
    "window_samples = 256\n",
    "window_type = 'blackman'\n",
    "decibel_limits = (-80, 0)\n",
    "\n",
    "# Denoising parameters\n",
    "#denoise=True\n",
    "#quantile=0.8\n",
    "bandpass = True\n",
    "order = 4\n",
    "\n",
    "# How many spectrograms to create and where to save them\n",
    "max_num_examples = 30\n",
    "create_audio = True\n",
    "save_audio = True\n",
    "save_spectrogram = False"
   ]
  },
  {
   "cell_type": "markdown",
   "metadata": {},
   "source": [
    "## Functions for creating spectrograms\n",
    "\n",
    "Formatting function to nicely format ticks for frequency (y axis) and time (x axis)"
   ]
  },
  {
   "cell_type": "code",
   "execution_count": 19,
   "metadata": {},
   "outputs": [],
   "source": [
    "def freq_reformatter(tick_val_hertz, pos):\n",
    "    \"\"\"\n",
    "    Input: float value in Hertz, e.g. 10000.0\n",
    "    Output: formatted string in kHz, e.g. '10'\n",
    "    \"\"\"\n",
    "    val_khz = tick_val_hertz/1000\n",
    "    str_format = \"%.0f\" % val_khz\n",
    "    if len(str_format) < 2:\n",
    "        str_format = str_format + '  '\n",
    "    return str_format"
   ]
  },
  {
   "cell_type": "code",
   "execution_count": 20,
   "metadata": {},
   "outputs": [],
   "source": [
    "def sec_reformatter(tick_val_sec, pos):\n",
    "    \"\"\"\n",
    "    Input: float value in seconds, e.g. 0.15\n",
    "    Output: formatted string in milliseconds, e.g. '150'\n",
    "    \"\"\"\n",
    "    val_ms = tick_val_sec*1000\n",
    "    return \"%.0f\" % val_ms\n",
    "    "
   ]
  },
  {
   "cell_type": "markdown",
   "metadata": {},
   "source": [
    "Function to save nice-looking spectrograms (using the functions above for formatting)"
   ]
  },
  {
   "cell_type": "code",
   "execution_count": 41,
   "metadata": {},
   "outputs": [],
   "source": [
    "def save_or_plot_spectrogram(s, filename, duration, save=True):\n",
    "    \"\"\"Create and save an NFC spectrogram\n",
    "    \n",
    "    Inputs:\n",
    "        s: opensoundscape.spectrogram.Spectrogram object\n",
    "        filename: where to save the file\n",
    "        duration: duration of the spectrogram\n",
    "        save: whether or not to save the file. If not saved, just plots the fig\n",
    "    \"\"\"\n",
    "    plt.subplots(figsize=(duration*30, 5))\n",
    "    plot = s.plot(inline=False)\n",
    "    s.plot(inline=False)\n",
    "    ax = plt.gca()\n",
    "    ax.set_ylabel(\"\")\n",
    "    ax.set_xlabel(\"\")\n",
    "    ax.tick_params(axis=\"y\", direction=\"in\", pad=-25, length=5, labelsize=17)\n",
    "    ax.tick_params(axis=\"x\", direction=\"in\", pad=-20, length=5, labelsize=17)\n",
    "    ax.spines['right'].set_visible(False)\n",
    "    ax.spines['top'].set_visible(False)\n",
    "    \n",
    "    ax.set_xticks(np.arange(0, duration, 0.05)[1:])\n",
    "    ax.set_yticks([2000, 4000, 6000, 8000, 10000])\n",
    "    \n",
    "    ax.xaxis.set_major_formatter(ticker.FuncFormatter(sec_reformatter))\n",
    "    ax.yaxis.set_major_formatter(ticker.FuncFormatter(freq_reformatter))\n",
    "    if save:\n",
    "        plt.savefig(filename, bbox_inches='tight', pad_inches=0)\n",
    "    else:\n",
    "        plt.show()\n",
    "    plt.close()"
   ]
  },
  {
   "cell_type": "markdown",
   "metadata": {},
   "source": [
    "## Extraction!"
   ]
  },
  {
   "cell_type": "markdown",
   "metadata": {},
   "source": [
    "Calls that we've decided should be excluded due to quality, etc."
   ]
  },
  {
   "cell_type": "code",
   "execution_count": 55,
   "metadata": {},
   "outputs": [
    {
     "data": {
      "text/plain": [
       "['SWWB_20151007_190300_PASSERIFORMES_CARDINALIDAE_SPIZA_AMERICANA_DICK_16502.048_16502.08']"
      ]
     },
     "execution_count": 55,
     "metadata": {},
     "output_type": "execute_result"
    }
   ],
   "source": [
    "exclusions = pd.read_csv(\"exclusions.csv\").filename_no_extension.tolist()\n",
    "exclusions"
   ]
  },
  {
   "cell_type": "code",
   "execution_count": 54,
   "metadata": {},
   "outputs": [
    {
     "name": "stdout",
     "output_type": "stream",
     "text": [
      "CAFO1_20171015_191000_CHARADRIIFORMES_SCOLOPACIDAE_TRINGA_MELANOLEUCA_GRYE_1385.84_1385.882\n",
      "5000.0 11024.0\n"
     ]
    },
    {
     "data": {
      "image/png": "[encoded data removed]",
      "text/plain": [
       "<Figure size 262.286x360 with 1 Axes>"
      ]
     },
     "metadata": {
      "needs_background": "light"
     },
     "output_type": "display_data"
    },
    {
     "name": "stdout",
     "output_type": "stream",
     "text": [
      "CAFO1_20171015_191000_CHARADRIIFORMES_SCOLOPACIDAE_TRINGA_MELANOLEUCA_GRYE_1385.963_1386.059\n",
      "0.1 6000.0\n"
     ]
    },
    {
     "data": {
      "image/png": "[encoded data removed]",
      "text/plain": [
       "<Figure size 524.571x360 with 1 Axes>"
      ]
     },
     "metadata": {
      "needs_background": "light"
     },
     "output_type": "display_data"
    }
   ],
   "source": [
    "# Keep track of how many examples we have per species\n",
    "num_examples_per_sp = {}\n",
    "\n",
    "# Randomly shuffle the files to get a good cross-representation\n",
    "random.seed(42)\n",
    "keys = list(tables_to_filenames.keys()) \n",
    "random.shuffle(keys) # Randomize which files we view\n",
    "\n",
    "assets_path = Path(\"assets\")\n",
    "assets_path.mkdir(exist_ok=True)\n",
    "metadata = []\n",
    "\n",
    "# Loop through the files and extract annotations\n",
    "for txt_file_name in keys[:2]:\n",
    "    txt_file_path = Path(\"kearney-nfc_annotations_cleaned\").joinpath(txt_file_name)\n",
    "    audio_file = tables_to_filenames[txt_file_name]\n",
    "    location_metadata = str(Path(audio_file).parent).strip('/bgfs/jkitzes/ter38/data/kearney-nfc')\n",
    "    \n",
    "    # Loop through all annotations in the file\n",
    "    df = pd.read_csv(txt_file_path, sep='\\t')\n",
    "    for idx, row in list(df.iterrows())[:2]:\n",
    "        \n",
    "        # Create the filename containing the info about the call\n",
    "        bp_low, bp_high, approx_duration = freq_limits.query(\"code == @alpha\")[['low_freq', 'high_freq', 'approx_duration']].values[0]\n",
    "        file_info = [str(x) for x in row[['Order', 'Family', 'Genus', 'Species', 'Alpha code', 'Begin time (s)', 'End time (s)']].tolist()]\n",
    "        dirname = assets_path.joinpath(alpha)\n",
    "        dirname.mkdir(exist_ok=True)\n",
    "        filename = '_'.join([txt_file_path.stem, *file_info])\n",
    "\n",
    "        # Decide whether to process this call\n",
    "        alpha = row['Alpha code']\n",
    "        if alpha == '?' or filename in exclusions:\n",
    "            continue\n",
    "        if alpha not in num_examples_per_sp.keys():\n",
    "            num_examples_per_sp[alpha] = 1\n",
    "        elif num_examples_per_sp[alpha] >= max_num_examples:\n",
    "            continue\n",
    "        else:\n",
    "            num_examples_per_sp[alpha] += 1\n",
    "            \n",
    "        if alpha in [\"BLGR\", \"BRCR\", \"COGO\", \"EVGR\", \"LALO\", \"OROR\", \"RBGU\", \"SORA\", \"STSA\"]:\n",
    "            print()\n",
    "            print(alpha, txt_file_name)\n",
    "        \n",
    "\n",
    "        print(filename)\n",
    "\n",
    "        # Beginning and ending time of the annotation\n",
    "        begin = row['Begin time (s)']\n",
    "        end = row['End time (s)']\n",
    "        \n",
    "        # Create a longer audio segment to save\n",
    "        if create_audio:\n",
    "            audio_dirname = dirname.joinpath('audio')\n",
    "            audio_dirname.mkdir(exist_ok=True)\n",
    "            offset = begin - 3\n",
    "            long_duration = 6\n",
    "            long_segment = Audio.from_file(audio_file, offset=offset, duration=long_duration)\n",
    "            if save_audio:\n",
    "                audio_filename = str(audio_dirname.joinpath(filename)) + '.wav'\n",
    "                long_segment.save(audio_filename)\n",
    "                \n",
    "        \n",
    "        # Save some info about the file\n",
    "        metadata.append([location_metadata, txt_file_path.stem, *file_info, offset])\n",
    "\n",
    "        \n",
    "        # Create a shorter spectrogram to show on website\n",
    "        center = (end + begin)/2\n",
    "        buffer_s = approx_duration/1.4\n",
    "        offset = center - approx_duration/2 - buffer_s\n",
    "        duration = approx_duration + buffer_s*2\n",
    "        overlap_samples = int(window_samples*0.9)\n",
    "        \n",
    "        short_segment = Audio.from_file(audio_file, offset=offset, duration=duration)\n",
    "        print(bp_low, bp_high)\n",
    "        if bandpass:\n",
    "            short_segment = short_segment.bandpass(bp_low, bp_high, order=order)\n",
    "        \n",
    "        s = Spectrogram.from_audio(\n",
    "            short_segment, window_samples=window_samples, overlap_samples=overlap_samples, decibel_limits=decibel_limits, window_type=window_type)\n",
    "        spectrogram_dirname = dirname.joinpath('spectrograms')\n",
    "        spectrogram_dirname.mkdir(exist_ok=True)\n",
    "        spectrogram_filename = str(spectrogram_dirname.joinpath(filename)) + '.jpg'\n",
    "        save_or_plot_spectrogram(s, filename=str(spectrogram_filename), duration=duration, save=save_spectrogram)"
   ]
  },
  {
   "cell_type": "markdown",
   "metadata": {},
   "source": [
    "## Save record of clips"
   ]
  },
  {
   "cell_type": "code",
   "execution_count": 27,
   "metadata": {},
   "outputs": [],
   "source": [
    "metadata_df = pd.DataFrame(metadata, columns=[\n",
    "    'project', 'source_clip', 'order', 'family', 'genus', 'species', 'alpha_code',\n",
    "    'annotation_start_time', 'annotation_end_time', 'audio_clip_start_time'])\n",
    "metadata_df.to_csv(\"clip_metadata.csv\")"
   ]
  },
  {
   "cell_type": "code",
   "execution_count": null,
   "metadata": {},
   "outputs": [],
   "source": []
  }
 ],
 "metadata": {
  "kernelspec": {
   "display_name": "opso_dev",
   "language": "python",
   "name": "opso_dev"
  },
  "language_info": {
   "codemirror_mode": {
    "name": "ipython",
    "version": 3
   },
   "file_extension": ".py",
   "mimetype": "text/x-python",
   "name": "python",
   "nbconvert_exporter": "python",
   "pygments_lexer": "ipython3",
   "version": "3.7.0"
  }
 },
 "nbformat": 4,
 "nbformat_minor": 2
}
