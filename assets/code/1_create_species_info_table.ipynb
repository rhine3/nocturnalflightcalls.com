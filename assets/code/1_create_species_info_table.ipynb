{
 "cells": [
  {
   "cell_type": "markdown",
   "id": "bf13cc97",
   "metadata": {},
   "source": []
  },
  {
   "cell_type": "markdown",
   "id": "772e0400",
   "metadata": {},
   "source": [
    "Combine information from multiple tables into one big table"
   ]
  },
  {
   "cell_type": "code",
   "execution_count": 1,
   "id": "57915dbd",
   "metadata": {},
   "outputs": [],
   "source": [
    "import pandas as pd"
   ]
  },
  {
   "cell_type": "markdown",
   "id": "4cb10589",
   "metadata": {},
   "source": [
    "### Table 2 - code-generated table containing information we know about all species in the table\n",
    "\n",
    "`table_source.csv` created by `create_spectrogram_display_table.ipynb`"
   ]
  },
  {
   "cell_type": "code",
   "execution_count": 5,
   "id": "62c35d42",
   "metadata": {},
   "outputs": [
    {
     "data": {
      "text/html": [
       "<div>\n",
       "<style scoped>\n",
       "    .dataframe tbody tr th:only-of-type {\n",
       "        vertical-align: middle;\n",
       "    }\n",
       "\n",
       "    .dataframe tbody tr th {\n",
       "        vertical-align: top;\n",
       "    }\n",
       "\n",
       "    .dataframe thead th {\n",
       "        text-align: right;\n",
       "    }\n",
       "</style>\n",
       "<table border=\"1\" class=\"dataframe\">\n",
       "  <thead>\n",
       "    <tr style=\"text-align: right;\">\n",
       "      <th></th>\n",
       "      <th>common_name</th>\n",
       "      <th>scientific_name</th>\n",
       "      <th>alpha_code</th>\n",
       "      <th>order</th>\n",
       "      <th>family</th>\n",
       "      <th>genus</th>\n",
       "      <th>bioacoustic_category</th>\n",
       "      <th>frequency_range</th>\n",
       "      <th>images</th>\n",
       "      <th>audio</th>\n",
       "    </tr>\n",
       "  </thead>\n",
       "  <tbody>\n",
       "    <tr>\n",
       "      <th>0</th>\n",
       "      <td>Canada Goose</td>\n",
       "      <td>Branta canadensis</td>\n",
       "      <td>CANG</td>\n",
       "      <td>Anseriformes</td>\n",
       "      <td>Anatidae</td>\n",
       "      <td>Branta</td>\n",
       "      <td>NaN</td>\n",
       "      <td>NaN</td>\n",
       "      <td>['media/CANG/spectrograms/A2PS1_20140912_20040...</td>\n",
       "      <td>['media/CANG/audio/A2PS1_20140912_200400_ANSER...</td>\n",
       "    </tr>\n",
       "    <tr>\n",
       "      <th>1</th>\n",
       "      <td>Green-winged Teal</td>\n",
       "      <td>Anas crecca</td>\n",
       "      <td>GWTE</td>\n",
       "      <td>Anseriformes</td>\n",
       "      <td>Anatidae</td>\n",
       "      <td>Anas</td>\n",
       "      <td>NaN</td>\n",
       "      <td>NaN</td>\n",
       "      <td>['media/GWTE/spectrograms/EAPS_20150421_204200...</td>\n",
       "      <td>['media/GWTE/audio/EAPS_20150421_204200_ANSERI...</td>\n",
       "    </tr>\n",
       "    <tr>\n",
       "      <th>2</th>\n",
       "      <td>Black Scoter</td>\n",
       "      <td>Melanitta americana</td>\n",
       "      <td>BLSC</td>\n",
       "      <td>Anseriformes</td>\n",
       "      <td>Anatidae</td>\n",
       "      <td>Melanitta</td>\n",
       "      <td>NaN</td>\n",
       "      <td>NaN</td>\n",
       "      <td>['media/BLSC/spectrograms/BERI1-20190410_20320...</td>\n",
       "      <td>['media/BLSC/audio/BERI1-20190410_203200_ANSER...</td>\n",
       "    </tr>\n",
       "    <tr>\n",
       "      <th>3</th>\n",
       "      <td>Long-tailed Duck</td>\n",
       "      <td>Clangula hyemalis</td>\n",
       "      <td>LTDU</td>\n",
       "      <td>Anseriformes</td>\n",
       "      <td>Anatidae</td>\n",
       "      <td>Clangula</td>\n",
       "      <td>NaN</td>\n",
       "      <td>NaN</td>\n",
       "      <td>['media/LTDU/spectrograms/BERI1-20190412_20340...</td>\n",
       "      <td>['media/LTDU/audio/BERI1-20190412_203400_ANSER...</td>\n",
       "    </tr>\n",
       "    <tr>\n",
       "      <th>4</th>\n",
       "      <td>Black-billed Cuckoo</td>\n",
       "      <td>Coccyzus erythropthalmus</td>\n",
       "      <td>BBCU</td>\n",
       "      <td>Cuculiformes</td>\n",
       "      <td>Cuculidae</td>\n",
       "      <td>Coccyzus</td>\n",
       "      <td>NaN</td>\n",
       "      <td>NaN</td>\n",
       "      <td>['media/BBCU/spectrograms/SCST2_20150916_19560...</td>\n",
       "      <td>['media/BBCU/audio/SCST2_20150916_195600_CUCUL...</td>\n",
       "    </tr>\n",
       "  </tbody>\n",
       "</table>\n",
       "</div>"
      ],
      "text/plain": [
       "           common_name           scientific_name alpha_code         order  \\\n",
       "0         Canada Goose         Branta canadensis       CANG  Anseriformes   \n",
       "1    Green-winged Teal               Anas crecca       GWTE  Anseriformes   \n",
       "2         Black Scoter       Melanitta americana       BLSC  Anseriformes   \n",
       "3     Long-tailed Duck         Clangula hyemalis       LTDU  Anseriformes   \n",
       "4  Black-billed Cuckoo  Coccyzus erythropthalmus       BBCU  Cuculiformes   \n",
       "\n",
       "      family      genus  bioacoustic_category  frequency_range  \\\n",
       "0   Anatidae     Branta                   NaN              NaN   \n",
       "1   Anatidae       Anas                   NaN              NaN   \n",
       "2   Anatidae  Melanitta                   NaN              NaN   \n",
       "3   Anatidae   Clangula                   NaN              NaN   \n",
       "4  Cuculidae   Coccyzus                   NaN              NaN   \n",
       "\n",
       "                                              images  \\\n",
       "0  ['media/CANG/spectrograms/A2PS1_20140912_20040...   \n",
       "1  ['media/GWTE/spectrograms/EAPS_20150421_204200...   \n",
       "2  ['media/BLSC/spectrograms/BERI1-20190410_20320...   \n",
       "3  ['media/LTDU/spectrograms/BERI1-20190412_20340...   \n",
       "4  ['media/BBCU/spectrograms/SCST2_20150916_19560...   \n",
       "\n",
       "                                               audio  \n",
       "0  ['media/CANG/audio/A2PS1_20140912_200400_ANSER...  \n",
       "1  ['media/GWTE/audio/EAPS_20150421_204200_ANSERI...  \n",
       "2  ['media/BLSC/audio/BERI1-20190410_203200_ANSER...  \n",
       "3  ['media/LTDU/audio/BERI1-20190412_203400_ANSER...  \n",
       "4  ['media/BBCU/audio/SCST2_20150916_195600_CUCUL...  "
      ]
     },
     "execution_count": 5,
     "metadata": {},
     "output_type": "execute_result"
    }
   ],
   "source": [
    "species_info_df = pd.read_csv(\"table_source.csv\")\n",
    "species_info_df.head()"
   ]
  },
  {
   "cell_type": "markdown",
   "id": "f720afa7",
   "metadata": {},
   "source": []
  },
  {
   "cell_type": "code",
   "execution_count": null,
   "id": "7f56d0c8",
   "metadata": {},
   "outputs": [],
   "source": []
  },
  {
   "cell_type": "markdown",
   "id": "9e2779d3",
   "metadata": {},
   "source": []
  },
  {
   "cell_type": "code",
   "execution_count": null,
   "id": "ccd9de5a",
   "metadata": {},
   "outputs": [],
   "source": []
  }
 ],
 "metadata": {
  "kernelspec": {
   "display_name": "opso-dev",
   "language": "python",
   "name": "opso-dev"
  },
  "language_info": {
   "codemirror_mode": {
    "name": "ipython",
    "version": 3
   },
   "file_extension": ".py",
   "mimetype": "text/x-python",
   "name": "python",
   "nbconvert_exporter": "python",
   "pygments_lexer": "ipython3",
   "version": "3.8.12"
  }
 },
 "nbformat": 4,
 "nbformat_minor": 5
}
